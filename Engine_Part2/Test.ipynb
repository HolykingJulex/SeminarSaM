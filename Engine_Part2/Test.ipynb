{
 "cells": [
  {
   "cell_type": "code",
   "execution_count": 1,
   "metadata": {},
   "outputs": [
    {
     "name": "stdout",
     "output_type": "stream",
     "text": [
      "pygame 2.6.1 (SDL 2.28.4, Python 3.6.4)\n",
      "Hello from the pygame community. https://www.pygame.org/contribute.html\n"
     ]
    }
   ],
   "source": [
    "import pygame as pg\n",
    "import moderngl as mgl\n",
    "import sys\n",
    "from model import *\n",
    "from camera import Camera\n",
    "from light import Light\n",
    "from mesh import Mesh\n",
    "from scene import Scene\n",
    "\n",
    "from System import *\n"
   ]
  },
  {
   "cell_type": "code",
   "execution_count": null,
   "metadata": {},
   "outputs": [],
   "source": [
    "class GraphicsEngine:\n",
    "    def __init__(self, win_size=(1600, 900)):\n",
    "        # init pygame modules\n",
    "        pg.init()\n",
    "        # window size\n",
    "        self.WIN_SIZE = win_size\n",
    "        # set opengl attr\n",
    "        pg.display.gl_set_attribute(pg.GL_CONTEXT_MAJOR_VERSION, 3)\n",
    "        pg.display.gl_set_attribute(pg.GL_CONTEXT_MINOR_VERSION, 3)\n",
    "        pg.display.gl_set_attribute(pg.GL_CONTEXT_PROFILE_MASK, pg.GL_CONTEXT_PROFILE_CORE)\n",
    "        # create opengl context\n",
    "        pg.display.set_mode(self.WIN_SIZE, flags=pg.OPENGL | pg.DOUBLEBUF)\n",
    "        # mouse settings\n",
    "        pg.event.set_grab(True)\n",
    "        pg.mouse.set_visible(False)\n",
    "        # detect and use existing opengl context\n",
    "        self.ctx = mgl.create_context()\n",
    "        # self.ctx.front_face = 'cw'\n",
    "        self.ctx.enable(flags=mgl.DEPTH_TEST | mgl.CULL_FACE)\n",
    "        # create an object to help track time\n",
    "        self.clock = pg.time.Clock()\n",
    "        self.time = 0\n",
    "        self.delta_time = 0\n",
    "        # light\n",
    "        self.light = Light()\n",
    "        # camera\n",
    "        self.camera = Camera(self)\n",
    "        # mesh\n",
    "        self.mesh = Mesh(self)\n",
    "        # scene\n",
    "\n",
    "        self.gr = System([10,10,1],\"shells2D\")\n",
    "\n",
    "        self.scene = Scene(self)\n",
    "\n",
    "        \n",
    "\n",
    "    def check_events(self):\n",
    "        for event in pg.event.get():\n",
    "            if event.type == pg.QUIT or (event.type == pg.KEYDOWN and event.key == pg.K_ESCAPE):\n",
    "                self.mesh.destroy()\n",
    "                pg.quit()\n",
    "                sys.exit()\n",
    "\n",
    "    def render(self):\n",
    "        # clear framebuffer\n",
    "        self.ctx.clear(color=(0.08, 0.16, 0.18))\n",
    "        # render scene\n",
    "        self.scene.render(self.gr)\n",
    "        # swap buffers\n",
    "        pg.display.flip()\n",
    "\n",
    "    def get_time(self):\n",
    "        self.time = pg.time.get_ticks() * 0.001\n",
    "\n",
    "    def run(self):\n",
    "        while True:\n",
    "            self.get_time()\n",
    "            self.check_events()\n",
    "            self.camera.update()\n",
    "            self.render()\n",
    "            self.gr.update()\n",
    "            #self.delta_time = self.clock.tick(60)\n",
    "            self.delta_time = self.clock.tick(60)\n"
   ]
  },
  {
   "cell_type": "code",
   "execution_count": 3,
   "metadata": {},
   "outputs": [
    {
     "name": "stderr",
     "output_type": "stream",
     "text": [
      "Unimplemented OBJ format statement 'Tf' on line '\tTf 1.0000 1.0000 1.0000'\n"
     ]
    },
    {
     "name": "stdout",
     "output_type": "stream",
     "text": [
      "FeA 1 1 from file  FM2D.matshell\n",
      "0 0 0\n",
      "1.0 0.0\n",
      "0 0 0\n",
      "[0.16372101 0.16372101 0.97282622]\n",
      "0 0 0\n",
      "0.9728348389037856 0.23361956638910278\n",
      "0 0 0\n",
      "[0.1761277  0.1761277  0.96848235]\n",
      "0 0 0\n",
      "0.9684890926407363 0.2517053902650974\n",
      "0 0 0\n",
      "[0.02820155 0.02820155 0.99920436]\n",
      "0 0 0\n",
      "0.9992041491991905 0.03989878159296035\n",
      "0 0 0\n",
      "[-0.14800762 -0.14800762  0.9778484 ]\n",
      "0 0 0\n",
      "0.9778546497195227 0.21084388784086286\n",
      "0 0 0\n",
      "[-0.18509751 -0.18509751  0.96513099]\n",
      "0 0 0\n",
      "0.9651371546169085 0.2648294532624137\n",
      "0 0 0\n",
      "[-0.05570939 -0.05570939  0.99689163]\n",
      "0 0 0\n",
      "0.9968911249484875 0.07887315435531098\n",
      "0 0 0\n",
      "[0.12918582 0.12918582 0.98316939]\n",
      "0 0 0\n",
      "0.9831757466597424 0.18369345149835115\n",
      "0 0 0\n",
      "[0.19055155 0.19055155 0.96300582]\n",
      "0 0 0\n",
      "0.9630145776615844 0.2728211315936187\n",
      "0 0 0\n",
      "[0.08186938 0.08186938 0.99327479]\n",
      "0 0 0\n",
      "0.9932753938781823 0.11603582539380684\n",
      "0 0 0\n",
      "[-0.10753859 -0.10753859  0.9883678 ]\n",
      "0 0 0\n",
      "0.9883717715411728 0.15264884245523724\n",
      "0 0 0\n",
      "[-0.19244834 -0.19244834  0.96225115]\n"
     ]
    },
    {
     "ename": "SystemExit",
     "evalue": "",
     "output_type": "error",
     "traceback": [
      "An exception has occurred, use %tb to see the full traceback.\n",
      "\u001b[1;31mSystemExit\u001b[0m\n"
     ]
    },
    {
     "name": "stderr",
     "output_type": "stream",
     "text": [
      "c:\\Users\\Julian\\Documents\\--Uni--\\Neuntes Semester\\MagSupraSeminar\\venv\\lib\\site-packages\\IPython\\core\\interactiveshell.py:3351: UserWarning: To exit: use 'exit', 'quit', or Ctrl-D.\n",
      "  warn(\"To exit: use 'exit', 'quit', or Ctrl-D.\", stacklevel=1)\n"
     ]
    }
   ],
   "source": [
    "\n",
    "app = GraphicsEngine()\n",
    "app.run()"
   ]
  }
 ],
 "metadata": {
  "kernelspec": {
   "display_name": "venv",
   "language": "python",
   "name": "python3"
  },
  "language_info": {
   "codemirror_mode": {
    "name": "ipython",
    "version": 3
   },
   "file_extension": ".py",
   "mimetype": "text/x-python",
   "name": "python",
   "nbconvert_exporter": "python",
   "pygments_lexer": "ipython3",
   "version": "3.6.4"
  }
 },
 "nbformat": 4,
 "nbformat_minor": 2
}
