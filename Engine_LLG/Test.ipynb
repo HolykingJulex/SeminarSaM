{
 "cells": [
  {
   "cell_type": "code",
   "execution_count": 4,
   "metadata": {},
   "outputs": [],
   "source": [
    "import pygame as pg\n",
    "import moderngl as mgl\n",
    "import sys\n",
    "from model import *\n",
    "from camera import Camera\n",
    "from light import Light\n",
    "from mesh import Mesh\n",
    "from scene import Scene\n",
    "\n",
    "from System import *\n"
   ]
  },
  {
   "cell_type": "code",
   "execution_count": 5,
   "metadata": {},
   "outputs": [],
   "source": [
    "class GraphicsEngine:\n",
    "    def __init__(self, win_size=(1600, 900)):\n",
    "        # init pygame modules\n",
    "        pg.init()\n",
    "        # window size\n",
    "        self.WIN_SIZE = win_size\n",
    "        # set opengl attr\n",
    "        pg.display.gl_set_attribute(pg.GL_CONTEXT_MAJOR_VERSION, 3)\n",
    "        pg.display.gl_set_attribute(pg.GL_CONTEXT_MINOR_VERSION, 3)\n",
    "        pg.display.gl_set_attribute(pg.GL_CONTEXT_PROFILE_MASK, pg.GL_CONTEXT_PROFILE_CORE)\n",
    "        # create opengl context\n",
    "        pg.display.set_mode(self.WIN_SIZE, flags=pg.OPENGL | pg.DOUBLEBUF)\n",
    "        # mouse settings\n",
    "        pg.event.set_grab(True)\n",
    "        pg.mouse.set_visible(False)\n",
    "        # detect and use existing opengl context\n",
    "        self.ctx = mgl.create_context()\n",
    "        # self.ctx.front_face = 'cw'\n",
    "        self.ctx.enable(flags=mgl.DEPTH_TEST | mgl.CULL_FACE)\n",
    "        # create an object to help track time\n",
    "        self.clock = pg.time.Clock()\n",
    "        self.time = 0\n",
    "        self.delta_time = 0\n",
    "        # light\n",
    "        self.light = Light()\n",
    "        # camera\n",
    "        self.camera = Camera(self)\n",
    "        # mesh\n",
    "        self.mesh = Mesh(self)\n",
    "        # scene\n",
    "\n",
    "        self.gr = System([15,15,1],\"shells2D\")\n",
    "\n",
    "        self.scene = Scene(self)\n",
    "\n",
    "        \n",
    "\n",
    "    def check_events(self):\n",
    "        for event in pg.event.get():\n",
    "            if event.type == pg.QUIT or (event.type == pg.KEYDOWN and event.key == pg.K_ESCAPE):\n",
    "                self.mesh.destroy()\n",
    "                pg.quit()\n",
    "                sys.exit()\n",
    "\n",
    "    def render(self):\n",
    "        # clear framebuffer\n",
    "        self.ctx.clear(color=(0.08, 0.16, 0.18))\n",
    "        # render scene\n",
    "        self.scene.render(self.gr)\n",
    "        # swap buffers\n",
    "        pg.display.flip()\n",
    "\n",
    "    def get_time(self):\n",
    "        self.time = pg.time.get_ticks() * 0.001\n",
    "\n",
    "    def run(self):\n",
    "        while True:\n",
    "            self.get_time()\n",
    "            self.check_events()\n",
    "            self.camera.update()\n",
    "            self.render()\n",
    "            self.gr.update()\n",
    "            #self.delta_time = self.clock.tick(60)\n",
    "            self.delta_time = self.clock.tick(90)\n"
   ]
  },
  {
   "cell_type": "code",
   "execution_count": 6,
   "metadata": {},
   "outputs": [
    {
     "name": "stderr",
     "output_type": "stream",
     "text": [
      "Unimplemented OBJ format statement 'Tf' on line '\tTf 1.0000 1.0000 1.0000'\n"
     ]
    },
    {
     "name": "stdout",
     "output_type": "stream",
     "text": [
      "FeA 1 1 from file  FM2D.matshell\n"
     ]
    },
    {
     "ename": "SystemExit",
     "evalue": "",
     "output_type": "error",
     "traceback": [
      "An exception has occurred, use %tb to see the full traceback.\n",
      "\u001b[1;31mSystemExit\u001b[0m\n"
     ]
    }
   ],
   "source": [
    "\n",
    "app = GraphicsEngine()\n",
    "app.run()"
   ]
  }
 ],
 "metadata": {
  "kernelspec": {
   "display_name": "venv",
   "language": "python",
   "name": "python3"
  },
  "language_info": {
   "codemirror_mode": {
    "name": "ipython",
    "version": 3
   },
   "file_extension": ".py",
   "mimetype": "text/x-python",
   "name": "python",
   "nbconvert_exporter": "python",
   "pygments_lexer": "ipython3",
   "version": "3.11.9"
  }
 },
 "nbformat": 4,
 "nbformat_minor": 2
}
