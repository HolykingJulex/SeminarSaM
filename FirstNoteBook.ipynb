{
 "cells": [
  {
   "cell_type": "code",
   "execution_count": 2,
   "metadata": {},
   "outputs": [],
   "source": [
    "import numpy as np\n",
    "from System import *"
   ]
  },
  {
   "cell_type": "code",
   "execution_count": 3,
   "metadata": {},
   "outputs": [
    {
     "name": "stdout",
     "output_type": "stream",
     "text": [
      "FeA 1 1 from file  FM.matshell\n",
      "<System.OnSiteAnisotropies object at 0x0000014A9434D1D0>\n"
     ]
    },
    {
     "ename": "IndexError",
     "evalue": "list index out of range",
     "output_type": "error",
     "traceback": [
      "\u001b[1;31m---------------------------------------------------------------------------\u001b[0m",
      "\u001b[1;31mIndexError\u001b[0m                                Traceback (most recent call last)",
      "Cell \u001b[1;32mIn[3], line 4\u001b[0m\n\u001b[0;32m      2\u001b[0m gr \u001b[38;5;241m=\u001b[39m System([\u001b[38;5;241m2\u001b[39m,\u001b[38;5;241m2\u001b[39m])\n\u001b[0;32m      3\u001b[0m \u001b[38;5;28mprint\u001b[39m(gr\u001b[38;5;241m.\u001b[39monSiteAnisotropies)\n\u001b[1;32m----> 4\u001b[0m \u001b[43mgr\u001b[49m\u001b[38;5;241;43m.\u001b[39;49m\u001b[43mupdate\u001b[49m\u001b[43m(\u001b[49m\u001b[43m)\u001b[49m\n",
      "File \u001b[1;32mc:\\Users\\Julian\\Documents\\--Uni--\\Neuntes Semester\\MagSupraSeminar\\System.py:263\u001b[0m, in \u001b[0;36mSystem.update\u001b[1;34m(self)\u001b[0m\n\u001b[0;32m    261\u001b[0m oldGrid \u001b[38;5;241m=\u001b[39m deepcopy(\u001b[38;5;28mself\u001b[39m\u001b[38;5;241m.\u001b[39mgrid) \u001b[38;5;66;03m#maybe not needed but good as safty\u001b[39;00m\n\u001b[0;32m    262\u001b[0m \u001b[38;5;66;03m#update field first. No time in temp needed for now\u001b[39;00m\n\u001b[1;32m--> 263\u001b[0m test \u001b[38;5;241m=\u001b[39m \u001b[38;5;28;43mself\u001b[39;49m\u001b[38;5;241;43m.\u001b[39;49m\u001b[43mcalculateExchange\u001b[49m\u001b[43m(\u001b[49m\u001b[43moldGrid\u001b[49m\u001b[43m)\u001b[49m\n\u001b[0;32m    264\u001b[0m \u001b[38;5;66;03m#get effective field\u001b[39;00m\n\u001b[0;32m    265\u001b[0m \u001b[38;5;66;03m#Hef = foo(oldGrid)\u001b[39;00m\n\u001b[0;32m    266\u001b[0m \n\u001b[0;32m    267\u001b[0m \u001b[38;5;66;03m#make new field based on old field and the effective field and temps\u001b[39;00m\n\u001b[0;32m    268\u001b[0m \u001b[38;5;66;03m#self.Grid = foo(oldGrid,Hef,temp)\u001b[39;00m\n\u001b[0;32m    269\u001b[0m \u001b[38;5;28;01mreturn\u001b[39;00m \u001b[38;5;28mself\u001b[39m\u001b[38;5;241m.\u001b[39mgrid\n",
      "File \u001b[1;32mc:\\Users\\Julian\\Documents\\--Uni--\\Neuntes Semester\\MagSupraSeminar\\System.py:283\u001b[0m, in \u001b[0;36mSystem.calculateExchange\u001b[1;34m(self, grid)\u001b[0m\n\u001b[0;32m    281\u001b[0m \u001b[38;5;28;01mfor\u001b[39;00m i \u001b[38;5;129;01min\u001b[39;00m \u001b[38;5;28mrange\u001b[39m(\u001b[38;5;28mself\u001b[39m\u001b[38;5;241m.\u001b[39msize[\u001b[38;5;241m0\u001b[39m]):\n\u001b[0;32m    282\u001b[0m     \u001b[38;5;28;01mfor\u001b[39;00m j \u001b[38;5;129;01min\u001b[39;00m \u001b[38;5;28mrange\u001b[39m(\u001b[38;5;28mself\u001b[39m\u001b[38;5;241m.\u001b[39msize[\u001b[38;5;241m1\u001b[39m]):\n\u001b[1;32m--> 283\u001b[0m         \u001b[38;5;28;01mfor\u001b[39;00m k \u001b[38;5;129;01min\u001b[39;00m \u001b[38;5;28mrange\u001b[39m(\u001b[38;5;28;43mself\u001b[39;49m\u001b[38;5;241;43m.\u001b[39;49m\u001b[43msize\u001b[49m\u001b[43m[\u001b[49m\u001b[38;5;241;43m2\u001b[39;49m\u001b[43m]\u001b[49m):\n\u001b[0;32m    284\u001b[0m             \u001b[38;5;28mprint\u001b[39m(\u001b[38;5;124m\"\u001b[39m\u001b[38;5;124mgot shell here\u001b[39m\u001b[38;5;124m\"\u001b[39m)\n\u001b[0;32m    285\u001b[0m             sl \u001b[38;5;241m=\u001b[39m putStructure(i,j,k) \u001b[38;5;66;03m# 0 because we only do a 2d lattice for now\u001b[39;00m\n",
      "\u001b[1;31mIndexError\u001b[0m: list index out of range"
     ]
    }
   ],
   "source": [
    "gr = Grid([2,2])\n",
    "gr = System([2,2])\n",
    "print(gr.onSiteAnisotropies)\n",
    "gr.update()"
   ]
  }
 ],
 "metadata": {
  "kernelspec": {
   "display_name": ".venv",
   "language": "python",
   "name": "python3"
  },
  "language_info": {
   "codemirror_mode": {
    "name": "ipython",
    "version": 3
   },
   "file_extension": ".py",
   "mimetype": "text/x-python",
   "name": "python",
   "nbconvert_exporter": "python",
   "pygments_lexer": "ipython3",
   "version": "3.11.0"
  },
  "orig_nbformat": 4
 },
 "nbformat": 4,
 "nbformat_minor": 2
}
