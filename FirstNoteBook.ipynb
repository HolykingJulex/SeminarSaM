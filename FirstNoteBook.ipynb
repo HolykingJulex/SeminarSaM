{
 "cells": [
  {
   "cell_type": "code",
   "execution_count": 1,
   "metadata": {},
   "outputs": [],
   "source": [
    "import numpy as np\n",
    "from System import *"
   ]
  },
  {
   "cell_type": "code",
   "execution_count": 3,
   "metadata": {},
   "outputs": [
    {
     "name": "stdout",
     "output_type": "stream",
     "text": [
      "FeA 1 1 from file  FM.matshell\n",
      "<System.OnSiteAnisotropies object at 0x00000190FF51CE50>\n",
      "need shell here\n",
      "need shell here\n",
      "need shell here\n",
      "need shell here\n",
      "need shell here\n",
      "need shell here\n",
      "need shell here\n",
      "need shell here\n"
     ]
    },
    {
     "data": {
      "text/plain": [
       "<System.Grid at 0x190fc7098d0>"
      ]
     },
     "execution_count": 3,
     "metadata": {},
     "output_type": "execute_result"
    }
   ],
   "source": [
    "gr = Grid([2,2])\n",
    "gr = System([2,2])\n",
    "print(gr.onSiteAnisotropies)\n",
    "gr.update()"
   ]
  }
 ],
 "metadata": {
  "kernelspec": {
   "display_name": ".venv",
   "language": "python",
   "name": "python3"
  },
  "language_info": {
   "codemirror_mode": {
    "name": "ipython",
    "version": 3
   },
   "file_extension": ".py",
   "mimetype": "text/x-python",
   "name": "python",
   "nbconvert_exporter": "python",
   "pygments_lexer": "ipython3",
   "version": "3.11.9"
  },
  "orig_nbformat": 4
 },
 "nbformat": 4,
 "nbformat_minor": 2
}
